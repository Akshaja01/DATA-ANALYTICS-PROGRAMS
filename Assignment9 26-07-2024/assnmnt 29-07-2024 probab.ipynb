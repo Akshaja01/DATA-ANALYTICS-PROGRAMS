{
 "cells": [
  {
   "cell_type": "markdown",
   "id": "7df456ff-e93d-425e-9d34-4efe7e49851c",
   "metadata": {},
   "source": [
    "### 1.probability of winning and losing"
   ]
  },
  {
   "cell_type": "code",
   "execution_count": 3,
   "id": "35a31fad-bf62-406c-a680-737e635b1366",
   "metadata": {},
   "outputs": [
    {
     "name": "stdout",
     "output_type": "stream",
     "text": [
      "Collecting scipy\n",
      "  Downloading scipy-1.14.0-cp312-cp312-win_amd64.whl.metadata (60 kB)\n",
      "     ---------------------------------------- 0.0/60.8 kB ? eta -:--:--\n",
      "     ------ --------------------------------- 10.2/60.8 kB ? eta -:--:--\n",
      "     ------ --------------------------------- 10.2/60.8 kB ? eta -:--:--\n",
      "     ------------ ------------------------- 20.5/60.8 kB 131.3 kB/s eta 0:00:01\n",
      "     ------------------- ------------------ 30.7/60.8 kB 145.2 kB/s eta 0:00:01\n",
      "     -------------------------------- ----- 51.2/60.8 kB 201.8 kB/s eta 0:00:01\n",
      "     -------------------------------------- 60.8/60.8 kB 230.7 kB/s eta 0:00:00\n",
      "Requirement already satisfied: numpy<2.3,>=1.23.5 in c:\\users\\cdac\\appdata\\local\\programs\\python\\python312\\lib\\site-packages (from scipy) (2.0.1)\n",
      "Downloading scipy-1.14.0-cp312-cp312-win_amd64.whl (44.5 MB)\n",
      "   ---------------------------------------- 0.0/44.5 MB ? eta -:--:--\n",
      "   ---------------------------------------- 0.0/44.5 MB 1.9 MB/s eta 0:00:24\n",
      "   ---------------------------------------- 0.3/44.5 MB 4.4 MB/s eta 0:00:11\n",
      "    --------------------------------------- 0.8/44.5 MB 6.1 MB/s eta 0:00:08\n",
      "   - -------------------------------------- 1.6/44.5 MB 5.6 MB/s eta 0:00:08\n",
      "   ---- ----------------------------------- 5.2/44.5 MB 5.4 MB/s eta 0:00:08\n",
      "   ------ --------------------------------- 7.1/44.5 MB 6.3 MB/s eta 0:00:06\n",
      "   ------- -------------------------------- 8.7/44.5 MB 6.5 MB/s eta 0:00:06\n",
      "   --------- ------------------------------ 10.4/44.5 MB 7.7 MB/s eta 0:00:05\n",
      "   ----------- ---------------------------- 13.3/44.5 MB 14.2 MB/s eta 0:00:03\n",
      "   -------------- ------------------------- 16.1/44.5 MB 22.6 MB/s eta 0:00:02\n",
      "   ---------------- ----------------------- 17.9/44.5 MB 34.4 MB/s eta 0:00:01\n",
      "   ------------------ --------------------- 20.8/44.5 MB 40.9 MB/s eta 0:00:01\n",
      "   -------------------- ------------------- 22.3/44.5 MB 36.4 MB/s eta 0:00:01\n",
      "   ---------------------- ----------------- 25.1/44.5 MB 38.5 MB/s eta 0:00:01\n",
      "   ------------------------ --------------- 27.4/44.5 MB 50.1 MB/s eta 0:00:01\n",
      "   -------------------------- ------------- 29.4/44.5 MB 46.9 MB/s eta 0:00:01\n",
      "   ---------------------------- ----------- 31.4/44.5 MB 50.4 MB/s eta 0:00:01\n",
      "   ------------------------------ --------- 34.0/44.5 MB 50.4 MB/s eta 0:00:01\n",
      "   -------------------------------- ------- 36.5/44.5 MB 50.4 MB/s eta 0:00:01\n",
      "   ----------------------------------- ---- 39.0/44.5 MB 46.7 MB/s eta 0:00:01\n",
      "   ------------------------------------ --- 40.8/44.5 MB 46.9 MB/s eta 0:00:01\n",
      "   ---------------------------------------  43.5/44.5 MB 50.4 MB/s eta 0:00:01\n",
      "   ---------------------------------------  44.5/44.5 MB 50.4 MB/s eta 0:00:01\n",
      "   ---------------------------------------  44.5/44.5 MB 50.4 MB/s eta 0:00:01\n",
      "   ---------------------------------------  44.5/44.5 MB 50.4 MB/s eta 0:00:01\n",
      "   ---------------------------------------  44.5/44.5 MB 50.4 MB/s eta 0:00:01\n",
      "   ---------------------------------------  44.5/44.5 MB 50.4 MB/s eta 0:00:01\n",
      "   ---------------------------------------  44.5/44.5 MB 50.4 MB/s eta 0:00:01\n",
      "   ---------------------------------------  44.5/44.5 MB 50.4 MB/s eta 0:00:01\n",
      "   ---------------------------------------  44.5/44.5 MB 50.4 MB/s eta 0:00:01\n",
      "   ---------------------------------------- 44.5/44.5 MB 16.8 MB/s eta 0:00:00\n",
      "Installing collected packages: scipy\n",
      "Successfully installed scipy-1.14.0\n",
      "Note: you may need to restart the kernel to use updated packages.\n"
     ]
    },
    {
     "name": "stderr",
     "output_type": "stream",
     "text": [
      "\n",
      "[notice] A new release of pip is available: 24.0 -> 24.1.2\n",
      "[notice] To update, run: python.exe -m pip install --upgrade pip\n"
     ]
    }
   ],
   "source": [
    "pip install scipy"
   ]
  },
  {
   "cell_type": "code",
   "execution_count": 8,
   "id": "deefdb70-13df-41c6-a5c5-f73e60b1c849",
   "metadata": {},
   "outputs": [
    {
     "data": {
      "image/png": "[encoded data removed]",
      "text/plain": [
       "<Figure size 640x480 with 1 Axes>"
      ]
     },
     "metadata": {},
     "output_type": "display_data"
    }
   ],
   "source": [
    "import numpy as np\n",
    "import matplotlib.pyplot as plt\n",
    "from scipy.stats import binom\n",
    "p_win=0.2\n",
    "p_lose=0.8\n",
    "n=10\n",
    "x=np.arange(0,n+1)\n",
    "pmf=binom.pmf(x,n,p_win)\n",
    "plt.bar(x,pmf,color='red')\n",
    "plt.xlabel('No.of trials')\n",
    "plt.ylabel('Probability')\n",
    "plt.title('PMF of wins')\n",
    "plt.show()"
   ]
  },
  {
   "cell_type": "markdown",
   "id": "bd7bd5ae-c650-4e82-9a8e-f95606969acb",
   "metadata": {},
   "source": [
    "### 2.trainee archer"
   ]
  },
  {
   "cell_type": "code",
   "execution_count": null,
   "id": "fd4ad576-7a44-4d97-a65e-dd533e50320b",
   "metadata": {},
   "outputs": [],
   "source": [
    "rom scipy.stats import binom\n",
    "p_hit=1/4\n",
    "n_shots=7\n",
    "pro"
   ]
  }
 ],
 "metadata": {
  "kernelspec": {
   "display_name": "Python 3 (ipykernel)",
   "language": "python",
   "name": "python3"
  },
  "language_info": {
   "codemirror_mode": {
    "name": "ipython",
    "version": 3
   },
   "file_extension": ".py",
   "mimetype": "text/x-python",
   "name": "python",
   "nbconvert_exporter": "python",
   "pygments_lexer": "ipython3",
   "version": "3.12.3"
  }
 },
 "nbformat": 4,
 "nbformat_minor": 5
}
