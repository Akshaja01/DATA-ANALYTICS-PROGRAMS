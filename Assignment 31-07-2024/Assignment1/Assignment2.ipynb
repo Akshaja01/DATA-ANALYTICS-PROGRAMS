{
 "cells": [
  {
   "cell_type": "code",
   "execution_count": 1,
   "id": "2a2bc336-5f88-47df-9b7d-e6a113895e52",
   "metadata": {},
   "outputs": [
    {
     "name": "stdin",
     "output_type": "stream",
     "text": [
      "Enter the number 4\n"
     ]
    },
    {
     "name": "stdout",
     "output_type": "stream",
     "text": [
      "The number is even number\n"
     ]
    }
   ],
   "source": [
    "n=int(input(\"Enter the number\"))\n",
    "if(n%2==0):\n",
    "    print(\"The number is even number\")\n",
    "else:\n",
    "    print(\"The number is odd number\")"
   ]
  },
  {
   "cell_type": "markdown",
   "id": "0cc84a76-dfe6-4c84-8a82-50e6e83f3686",
   "metadata": {},
   "source": [
    "### Positive or Negative"
   ]
  },
  {
   "cell_type": "code",
   "execution_count": 3,
   "id": "9ecfc36c-124b-45db-b125-c6cf73bae7b6",
   "metadata": {},
   "outputs": [
    {
     "name": "stdin",
     "output_type": "stream",
     "text": [
      "Enter a number -7\n"
     ]
    },
    {
     "name": "stdout",
     "output_type": "stream",
     "text": [
      "The number is negative\n"
     ]
    }
   ],
   "source": [
    "n=int(input(\"Enter a number\"))\n",
    "if(n>0):\n",
    "      print(\"The number is positive\")\n",
    "elif(n==0):\n",
    "    print(\"The numbet is zero\")\n",
    "else:\n",
    "    print(\"The number is negative\")"
   ]
  },
  {
   "cell_type": "markdown",
   "id": "bff128ac-aa4b-4cbb-8a16-75ee1abfe27a",
   "metadata": {},
   "source": [
    "### Leap year or not"
   ]
  },
  {
   "cell_type": "code",
   "execution_count": 6,
   "id": "016e4b5a-4b8b-4292-979d-a4abd360c9ec",
   "metadata": {},
   "outputs": [
    {
     "name": "stdin",
     "output_type": "stream",
     "text": [
      "Enter the year 2024\n"
     ]
    },
    {
     "name": "stdout",
     "output_type": "stream",
     "text": [
      "The year is leap year\n"
     ]
    }
   ],
   "source": [
    "n=int(input(\"Enter the year\"))\n",
    "if(n%400==0):\n",
    "    print(\"The year is leap year\")\n",
    "if(n%100==0):\n",
    "    print(\"The year is leap year\")\n",
    "elif(n%4==0):\n",
    "    print(\"The year is leap year\")\n",
    "else:\n",
    "    print(\"The year is not a leap year\")"
   ]
  },
  {
   "cell_type": "markdown",
   "id": "5e28e146-e94b-4ae4-acd9-046ca054369b",
   "metadata": {},
   "source": [
    "### Multiplication table"
   ]
  },
  {
   "cell_type": "code",
   "execution_count": 14,
   "id": "2083f739-a1e0-45e8-9dbb-8873233604dd",
   "metadata": {},
   "outputs": [
    {
     "name": "stdout",
     "output_type": "stream",
     "text": [
      "Multiplication table of 1 is\n",
      "1 x 1 = 1\n",
      "1 x 2 = 2\n",
      "1 x 3 = 3\n",
      "1 x 4 = 4\n",
      "1 x 5 = 5\n",
      "1 x 6 = 6\n",
      "1 x 7 = 7\n",
      "1 x 8 = 8\n",
      "1 x 9 = 9\n",
      "1 x 10 = 10\n",
      "Multiplication table of 2 is\n",
      "2 x 1 = 2\n",
      "2 x 2 = 4\n",
      "2 x 3 = 6\n",
      "2 x 4 = 8\n",
      "2 x 5 = 10\n",
      "2 x 6 = 12\n",
      "2 x 7 = 14\n",
      "2 x 8 = 16\n",
      "2 x 9 = 18\n",
      "2 x 10 = 20\n",
      "Multiplication table of 3 is\n",
      "3 x 1 = 3\n",
      "3 x 2 = 6\n",
      "3 x 3 = 9\n",
      "3 x 4 = 12\n",
      "3 x 5 = 15\n",
      "3 x 6 = 18\n",
      "3 x 7 = 21\n",
      "3 x 8 = 24\n",
      "3 x 9 = 27\n",
      "3 x 10 = 30\n",
      "Multiplication table of 4 is\n",
      "4 x 1 = 4\n",
      "4 x 2 = 8\n",
      "4 x 3 = 12\n",
      "4 x 4 = 16\n",
      "4 x 5 = 20\n",
      "4 x 6 = 24\n",
      "4 x 7 = 28\n",
      "4 x 8 = 32\n",
      "4 x 9 = 36\n",
      "4 x 10 = 40\n",
      "Multiplication table of 5 is\n",
      "5 x 1 = 5\n",
      "5 x 2 = 10\n",
      "5 x 3 = 15\n",
      "5 x 4 = 20\n",
      "5 x 5 = 25\n",
      "5 x 6 = 30\n",
      "5 x 7 = 35\n",
      "5 x 8 = 40\n",
      "5 x 9 = 45\n",
      "5 x 10 = 50\n"
     ]
    }
   ],
   "source": [
    "for i in range(1,6):\n",
    "    print(\"Multiplication table of\",i,\"is\")\n",
    "    for j in range(1,11):\n",
    "        print(i,\"x\",j,\"=\",i*j)"
   ]
  },
  {
   "cell_type": "markdown",
   "id": "dd1f307a-8f82-4375-bc7c-969365347bf3",
   "metadata": {},
   "source": [
    "### Calculator"
   ]
  },
  {
   "cell_type": "code",
   "execution_count": 21,
   "id": "1e369add-4bc9-4507-b60c-741c8c2f08d6",
   "metadata": {},
   "outputs": [
    {
     "name": "stdin",
     "output_type": "stream",
     "text": [
      "for simple calculator + for addition,- for difference, / for division,* for multiplication +\n",
      "enter the number1 7\n",
      "enter the number2 5\n"
     ]
    },
    {
     "name": "stdout",
     "output_type": "stream",
     "text": [
      "7.0 + 5.0 = 12.0\n"
     ]
    }
   ],
   "source": [
    "symbol=input(\"for simple calculator + for addition,- for difference, / for division,* for multiplication\")\n",
    "n1=float(input(\"enter the number1\"))\n",
    "n2=float(input(\"enter the number2\"))\n",
    "match symbol:\n",
    "    case'+':\n",
    "        print(n1,\"+\",n2,\"=\",n1+n2)\n",
    "    case'-':\n",
    "        print(n1,\"-\",n2,\"=\",n1-n2)\n",
    "    case'*':\n",
    "        print(n1,\"*\",n2,\"=\",n1*n2)\n",
    "    case'/':\n",
    "        print(n1,\"/\",n2,\"=\",n1/n2)"
   ]
  },
  {
   "cell_type": "markdown",
   "id": "a1b84fea-1c0f-4b43-b96e-24fe73fb9801",
   "metadata": {},
   "source": [
    "### Factor"
   ]
  },
  {
   "cell_type": "code",
   "execution_count": 18,
   "id": "f7deef5e-97fe-4c87-8aa7-3701efc5d4f5",
   "metadata": {},
   "outputs": [
    {
     "name": "stdin",
     "output_type": "stream",
     "text": [
      "enter the number 5\n"
     ]
    },
    {
     "name": "stdout",
     "output_type": "stream",
     "text": [
      "factor of 5 are 1\n",
      "factor of 5 are 5\n"
     ]
    }
   ],
   "source": [
    "f=int(input(\"enter the number\"))\n",
    "n=f\n",
    "for i in range(1,f+1):\n",
    "    if f%i==0:\n",
    "        print(\"factor of\",n,\"are\",i)"
   ]
  },
  {
   "cell_type": "markdown",
   "id": "d4e27ad3-63d6-4ab3-bc37-91983da260a5",
   "metadata": {},
   "source": [
    "### Reverse of a number"
   ]
  },
  {
   "cell_type": "code",
   "execution_count": 19,
   "id": "485e6230-097d-4dce-8ec3-ee7b4333260c",
   "metadata": {},
   "outputs": [
    {
     "name": "stdin",
     "output_type": "stream",
     "text": [
      "enter the number 123\n"
     ]
    },
    {
     "name": "stdout",
     "output_type": "stream",
     "text": [
      "reverse number is 321\n"
     ]
    }
   ],
   "source": [
    "num=int(input(\"enter the number\"))\n",
    "rs=0\n",
    "while num!=0:\n",
    "    r=num%10\n",
    "    rs=rs*10+r\n",
    "    num=num//10\n",
    "print(\"reverse number is\",str(rs))"
   ]
  },
  {
   "cell_type": "markdown",
   "id": "524e2bf3-b6a1-49bb-8e52-f5c829b2e392",
   "metadata": {},
   "source": [
    "### Fibonacci"
   ]
  },
  {
   "cell_type": "code",
   "execution_count": 22,
   "id": "c23d3688-646c-4060-a43d-8be426b27bd6",
   "metadata": {},
   "outputs": [
    {
     "name": "stdin",
     "output_type": "stream",
     "text": [
      "Enter the terms 5\n"
     ]
    },
    {
     "name": "stdout",
     "output_type": "stream",
     "text": [
      "0\n",
      "1\n",
      "1\n",
      "2\n",
      "3\n"
     ]
    }
   ],
   "source": [
    "n=int(input(\"Enter the terms\"))\n",
    "a,b=0,1\n",
    "for i in range(n):\n",
    "    print(a)\n",
    "    a,b=b,a+b"
   ]
  },
  {
   "cell_type": "markdown",
   "id": "6e8d83f2-0070-4f78-a092-ad934b6440e9",
   "metadata": {},
   "source": [
    "### Prime number"
   ]
  },
  {
   "cell_type": "code",
   "execution_count": 4,
   "id": "0409a410-2612-4c62-b7c7-a527f9701cae",
   "metadata": {},
   "outputs": [
    {
     "name": "stdin",
     "output_type": "stream",
     "text": [
      "Enter a number 2\n"
     ]
    }
   ],
   "source": [
    "n=int(input(\"Enter a number\"))\n",
    "if n>1:\n",
    "    for i in range(2,n//2+1):\n",
    "        if(n%i)==0:\n",
    "            print(n,\"is not a prime number\")\n",
    "        else:\n",
    "            print(n,\"is a prime number\")"
   ]
  },
  {
   "cell_type": "markdown",
   "id": "1331b237-6e00-4100-879d-459fb8b55792",
   "metadata": {},
   "source": [
    "### sum of numbers"
   ]
  },
  {
   "cell_type": "code",
   "execution_count": 3,
   "id": "97b2ce9c-1836-40e8-ac30-2c7ade6785e6",
   "metadata": {},
   "outputs": [
    {
     "name": "stdin",
     "output_type": "stream",
     "text": [
      "Enter the starting range 1\n",
      "Enter the ending range 5\n"
     ]
    },
    {
     "name": "stdout",
     "output_type": "stream",
     "text": [
      "15\n"
     ]
    }
   ],
   "source": [
    "a=int(input(\"Enter the starting range\"))\n",
    "b=int(input(\"Enter the ending range\"))\n",
    "sum=0\n",
    "for i in range(a,b+1):\n",
    "    sum+=i\n",
    "print(sum)"
   ]
  },
  {
   "cell_type": "code",
   "execution_count": null,
   "id": "6da1152b-c665-475c-bdfa-5d71faf2a749",
   "metadata": {},
   "outputs": [],
   "source": []
  }
 ],
 "metadata": {
  "kernelspec": {
   "display_name": "Python 3 (ipykernel)",
   "language": "python",
   "name": "python3"
  },
  "language_info": {
   "codemirror_mode": {
    "name": "ipython",
    "version": 3
   },
   "file_extension": ".py",
   "mimetype": "text/x-python",
   "name": "python",
   "nbconvert_exporter": "python",
   "pygments_lexer": "ipython3",
   "version": "3.12.3"
  }
 },
 "nbformat": 4,
 "nbformat_minor": 5
}
