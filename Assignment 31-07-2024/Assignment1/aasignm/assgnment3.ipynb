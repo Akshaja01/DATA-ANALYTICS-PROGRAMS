{
 "cells": [
  {
   "cell_type": "markdown",
   "id": "0afdbb5a-6b4d-451d-96be-d9ba643ab8b4",
   "metadata": {},
   "source": [
    "### Username and Password"
   ]
  },
  {
   "cell_type": "code",
   "execution_count": 1,
   "id": "1a1ab052-e9a9-41b4-8fe8-ae696e2d727a",
   "metadata": {},
   "outputs": [
    {
     "name": "stdin",
     "output_type": "stream",
     "text": [
      "Enter the username akshaja\n",
      "Enter the password cdac\n"
     ]
    },
    {
     "name": "stdout",
     "output_type": "stream",
     "text": [
      "Login successful\n"
     ]
    }
   ],
   "source": [
    "username=input(\"Enter the username\")\n",
    "password=input(\"Enter the password\")\n",
    "if password==\"cdac\" and username not in password:\n",
    "    print(\"Login successful\")\n",
    "else:\n",
    "    print(\"Login failure\")"
   ]
  },
  {
   "cell_type": "markdown",
   "id": "1b4266a8-f2b6-4eef-a9c0-545e8f274d25",
   "metadata": {},
   "source": [
    "### Concatenation"
   ]
  },
  {
   "cell_type": "code",
   "execution_count": 3,
   "id": "ce27418d-6022-4d1a-873b-83ad884be13a",
   "metadata": {},
   "outputs": [
    {
     "name": "stdin",
     "output_type": "stream",
     "text": [
      "Enter the first string hello\n",
      "Enter the second string cdac\n"
     ]
    }
   ],
   "source": [
    "str1=input(\"Enter the first string\")\n",
    "str2=input(\"Enter the second string\")\n",
    "if str1 in str2:\n",
    "    str3=str2[:4]+\"cdac\"\n",
    "    print(str3)"
   ]
  },
  {
   "cell_type": "markdown",
   "id": "a96a562a-c023-4a4d-bbb6-b861089c1069",
   "metadata": {},
   "source": [
    "### Decimal"
   ]
  },
  {
   "cell_type": "code",
   "execution_count": 1,
   "id": "dceea2ea-b329-42a3-9271-a9f459893820",
   "metadata": {},
   "outputs": [
    {
     "name": "stdin",
     "output_type": "stream",
     "text": [
      "Enter a string containing decimal helo56.789poi\n"
     ]
    },
    {
     "name": "stdout",
     "output_type": "stream",
     "text": [
      "789poi\n"
     ]
    }
   ],
   "source": [
    "d=input(\"Enter a string containing decimal\")\n",
    "if '.' in d:\n",
    "    d=d.split('.')[1]\n",
    "    print(d)\n",
    "else:\n",
    "    print(\"no decimal part in string\")"
   ]
  },
  {
   "cell_type": "markdown",
   "id": "ecbf3c42-c987-4364-982b-5042d5007c52",
   "metadata": {},
   "source": [
    "### Capitalize first letter"
   ]
  },
  {
   "cell_type": "code",
   "execution_count": 13,
   "id": "95d6e7a7-461d-4cc7-8f8e-f782fd34366c",
   "metadata": {},
   "outputs": [
    {
     "name": "stdin",
     "output_type": "stream",
     "text": [
      "Enter the words hello world\n"
     ]
    },
    {
     "data": {
      "text/plain": [
       "'Hello World'"
      ]
     },
     "execution_count": 13,
     "metadata": {},
     "output_type": "execute_result"
    }
   ],
   "source": [
    "str4=input(\"Enter the words\")\n",
    "str4.title()"
   ]
  },
  {
   "cell_type": "markdown",
   "id": "2654b0d5-ba12-41c3-b482-59babf6ed768",
   "metadata": {},
   "source": [
    "### Capitalize letters"
   ]
  },
  {
   "cell_type": "code",
   "execution_count": 15,
   "id": "980ff2ed-09be-48e3-9265-ece4ba7813d3",
   "metadata": {},
   "outputs": [
    {
     "name": "stdin",
     "output_type": "stream",
     "text": [
      "Enter the words hai how are you\n"
     ]
    },
    {
     "name": "stdout",
     "output_type": "stream",
     "text": [
      "HAI HOW ARE YOU\n"
     ]
    }
   ],
   "source": [
    "str5=input(\"Enter the words\")\n",
    "cs=str5.upper()\n",
    "print(cs)"
   ]
  },
  {
   "cell_type": "markdown",
   "id": "d12db311-7cfa-4189-b948-09a1e3c9118e",
   "metadata": {},
   "source": [
    "### Delete all occurrence"
   ]
  },
  {
   "cell_type": "code",
   "execution_count": 14,
   "id": "5cddbbe6-b8f8-4663-9a12-f0feee2364a5",
   "metadata": {},
   "outputs": [
    {
     "name": "stdin",
     "output_type": "stream",
     "text": [
      "Enter the string hello world\n",
      "Enter the character to delete o\n"
     ]
    },
    {
     "name": "stdout",
     "output_type": "stream",
     "text": [
      "hell wrld\n"
     ]
    }
   ],
   "source": [
    "str9=input(\"Enter the string\")\n",
    "sd=input(\"Enter the character to delete\")\n",
    "str10=str9.replace(sd,'')\n",
    "print(str10)"
   ]
  },
  {
   "cell_type": "markdown",
   "id": "346540b5-c641-44d8-b596-c06cbc577d7c",
   "metadata": {},
   "source": [
    "### Double a character"
   ]
  },
  {
   "cell_type": "code",
   "execution_count": 16,
   "id": "d61f813d-ee74-473f-a683-25ea015aea22",
   "metadata": {},
   "outputs": [
    {
     "name": "stdin",
     "output_type": "stream",
     "text": [
      "Enter the string cdac\n"
     ]
    },
    {
     "name": "stdout",
     "output_type": "stream",
     "text": [
      "ccddaacc\n"
     ]
    }
   ],
   "source": [
    "string=input(\"Enter the string\")\n",
    "cd=''.join(char*2 for char in string)\n",
    "print(cd)"
   ]
  },
  {
   "cell_type": "markdown",
   "id": "c257e0a7-b176-44dc-9be2-b7d646f67c27",
   "metadata": {},
   "source": [
    "### lower to uppercase"
   ]
  },
  {
   "cell_type": "code",
   "execution_count": 8,
   "id": "269644b1-a184-44f4-ae97-001b55be7541",
   "metadata": {},
   "outputs": [
    {
     "name": "stdin",
     "output_type": "stream",
     "text": [
      "Enter the string hello world\n"
     ]
    },
    {
     "name": "stdout",
     "output_type": "stream",
     "text": [
      "HELLO WORLD\n"
     ]
    }
   ],
   "source": [
    "b=input(\"Enter the string\")\n",
    "abc=\"\"\n",
    "for char in b:\n",
    "    if char.islower():\n",
    "        abc+=char.upper()\n",
    "    else:\n",
    "        abc+=char.lower()\n",
    "print(abc)"
   ]
  },
  {
   "cell_type": "markdown",
   "id": "a52f300a-d4b2-4cb9-aa97-f73e945e6f07",
   "metadata": {},
   "source": [
    "### Line of text"
   ]
  },
  {
   "cell_type": "code",
   "execution_count": 10,
   "id": "9f025397-8369-4676-94a9-ee2c98318589",
   "metadata": {},
   "outputs": [
    {
     "name": "stdin",
     "output_type": "stream",
     "text": [
      "Enter the text hello hai\n"
     ]
    },
    {
     "name": "stdout",
     "output_type": "stream",
     "text": [
      "hello 5\n",
      "hai 3\n"
     ]
    }
   ],
   "source": [
    "lt=input(\"Enter the text\")\n",
    "for word in lt.split():\n",
    "    print(word,len(word))"
   ]
  },
  {
   "cell_type": "markdown",
   "id": "6e31074c-4ea1-4a74-b78b-eab7570de1b5",
   "metadata": {},
   "source": [
    "### String to digit"
   ]
  },
  {
   "cell_type": "code",
   "execution_count": 13,
   "id": "331d5311-167e-4a5e-aca9-aa6d69635e2a",
   "metadata": {},
   "outputs": [
    {
     "name": "stdin",
     "output_type": "stream",
     "text": [
      "Enter a string ert 76 tyu 890\n"
     ]
    },
    {
     "name": "stdout",
     "output_type": "stream",
     "text": [
      "Original string ert 76 tyu 890\n",
      "Digits [7, 6, 8, 9, 0]\n",
      "Sum of digits: 30\n"
     ]
    }
   ],
   "source": [
    "a=input(\"Enter a string\")\n",
    "dig=[int(char) for char in a if char.isdigit()]\n",
    "if dig:\n",
    "    print(\"Original string\",a)\n",
    "    print(\"Digits\",dig)\n",
    "    print(\"Sum of digits:\",sum(dig))\n",
    "else:\n",
    "    print(a,\"has no digits\")"
   ]
  },
  {
   "cell_type": "code",
   "execution_count": null,
   "id": "a40ec09b-ecfc-4967-ba36-46ba1934bb82",
   "metadata": {},
   "outputs": [],
   "source": []
  }
 ],
 "metadata": {
  "kernelspec": {
   "display_name": "Python 3 (ipykernel)",
   "language": "python",
   "name": "python3"
  },
  "language_info": {
   "codemirror_mode": {
    "name": "ipython",
    "version": 3
   },
   "file_extension": ".py",
   "mimetype": "text/x-python",
   "name": "python",
   "nbconvert_exporter": "python",
   "pygments_lexer": "ipython3",
   "version": "3.12.3"
  }
 },
 "nbformat": 4,
 "nbformat_minor": 5
}
