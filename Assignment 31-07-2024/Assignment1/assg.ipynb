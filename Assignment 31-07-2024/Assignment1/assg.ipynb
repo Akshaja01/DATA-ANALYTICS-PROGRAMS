{
 "cells": [
  {
   "cell_type": "code",
   "execution_count": 1,
   "id": "5ea1095a-4426-4e09-aabd-267f4efa994d",
   "metadata": {},
   "outputs": [
    {
     "name": "stdin",
     "output_type": "stream",
     "text": [
      "Enter the length of the rectangle 5\n",
      "Enter the breadth of the rectangle 3\n"
     ]
    },
    {
     "name": "stdout",
     "output_type": "stream",
     "text": [
      "Area is: 15\n",
      "Perimeter is: 16\n"
     ]
    }
   ],
   "source": [
    "length=int(input(\"Enter the length of the rectangle\"))\n",
    "breadth=int(input(\"Enter the breadth of the rectangle\"))\n",
    "perimeter=2*(length+breadth)\n",
    "area=length*breadth\n",
    "print(\"Area is:\",area)\n",
    "print(\"Perimeter is:\",perimeter)"
   ]
  },
  {
   "cell_type": "markdown",
   "id": "b368a49c-ce22-4fc6-873e-9ff98ffa9736",
   "metadata": {},
   "source": [
    "### Program to read First,last name"
   ]
  },
  {
   "cell_type": "raw",
   "id": "989f221f-5146-4cb2-bfb0-5ec81f5b1842",
   "metadata": {},
   "source": [
    "firstname=input(\"Enter the firstname\")\n",
    "secondname=input(\"Enter the secondname\")\n",
    "print(\"The name is:\",firstname+secondname)"
   ]
  },
  {
   "cell_type": "markdown",
   "id": "e5c1ae1c-3357-4df4-961b-ce0ba1cd704c",
   "metadata": {},
   "source": [
    "### program to find area and perimeter of a circle"
   ]
  },
  {
   "cell_type": "code",
   "execution_count": 3,
   "id": "adbffa6e-ccb8-4c8b-b853-7d2b8fd7d773",
   "metadata": {},
   "outputs": [
    {
     "name": "stdin",
     "output_type": "stream",
     "text": [
      "Enter the radius 5\n"
     ]
    },
    {
     "name": "stdout",
     "output_type": "stream",
     "text": [
      "The area is: 78.5\n",
      "The perimeter is: 31.400000000000002\n"
     ]
    }
   ],
   "source": [
    "r=float(input(\"Enter the radius\"))\n",
    "p=2*3.14*r\n",
    "area=3.14*r*r\n",
    "print(\"The area is:\",area)\n",
    "print(\"The perimeter is:\",p)"
   ]
  },
  {
   "cell_type": "markdown",
   "id": "5773d1a4-c475-4e44-a888-277347fabde8",
   "metadata": {},
   "source": [
    "### Program to demonstrate the outputs of relational and logical operators"
   ]
  },
  {
   "cell_type": "code",
   "execution_count": 4,
   "id": "deca62f2-f7d1-4be9-b0b6-c61150d6eaf1",
   "metadata": {},
   "outputs": [
    {
     "name": "stdout",
     "output_type": "stream",
     "text": [
      "True\n",
      "False\n",
      "False\n",
      "True\n",
      "True\n",
      "True\n"
     ]
    }
   ],
   "source": [
    "val1=200\n",
    "val2=80\n",
    "print(val1>val2)\n",
    "print(val1<val2)\n",
    "print(val1==val2)\n",
    "print(val1!=val2)\n",
    "print(val1>=val2)\n",
    "print(val2<=val2)"
   ]
  },
  {
   "cell_type": "code",
   "execution_count": 6,
   "id": "f8b09637-b943-4012-a6ef-e45ccaec431a",
   "metadata": {},
   "outputs": [
    {
     "name": "stdout",
     "output_type": "stream",
     "text": [
      "False\n",
      "True\n",
      "False\n"
     ]
    }
   ],
   "source": [
    "print(val1>val2 and val1<val2)\n",
    "print(val1>val2 or val1<val2)\n",
    "print(not(val1>val2))"
   ]
  },
  {
   "cell_type": "markdown",
   "id": "10736b45-9d28-479d-bb2c-323964271308",
   "metadata": {},
   "source": [
    "### Quotient and Remainder"
   ]
  },
  {
   "cell_type": "code",
   "execution_count": 8,
   "id": "e9eeb15c-fab5-4c35-982a-27e3eb1e166f",
   "metadata": {},
   "outputs": [
    {
     "name": "stdin",
     "output_type": "stream",
     "text": [
      "Enter the first num 25\n",
      "Enter the second num 5\n"
     ]
    },
    {
     "name": "stdout",
     "output_type": "stream",
     "text": [
      "Quotient is: 5\n",
      "Remainder is: 0\n"
     ]
    }
   ],
   "source": [
    "a1=int(input(\"Enter the first num\"))\n",
    "a2=int(input(\"Enter the second num\"))\n",
    "q=a1//a2\n",
    "rem=a1%a2\n",
    "print(\"Quotient is:\",q)\n",
    "print(\"Remainder is:\",rem)\n"
   ]
  },
  {
   "cell_type": "markdown",
   "id": "82923698-8dac-473d-95e4-acb4df2a74fe",
   "metadata": {},
   "source": [
    "### Power of a number"
   ]
  },
  {
   "cell_type": "code",
   "execution_count": 9,
   "id": "8bfc0e95-f64a-4284-b3d9-fcef1903c2a6",
   "metadata": {},
   "outputs": [
    {
     "name": "stdin",
     "output_type": "stream",
     "text": [
      "Enter the number 4\n",
      "Enter the number 4\n"
     ]
    },
    {
     "name": "stdout",
     "output_type": "stream",
     "text": [
      "The power of 4 is 256\n"
     ]
    }
   ],
   "source": [
    "b1=int(input(\"Enter the number\"))\n",
    "b2=int(input(\"Enter the number\"))\n",
    "p=b1**b2\n",
    "print(\"The power of\",b1,\"is\",p)"
   ]
  },
  {
   "cell_type": "markdown",
   "id": "e3454449-544b-45d0-b20f-d1640dcb8eab",
   "metadata": {},
   "source": [
    "### Convert length to meter"
   ]
  },
  {
   "cell_type": "code",
   "execution_count": 10,
   "id": "7919bfcb-b8a3-463a-83db-5b374fa2492a",
   "metadata": {},
   "outputs": [
    {
     "name": "stdin",
     "output_type": "stream",
     "text": [
      "Enter the length 786\n"
     ]
    },
    {
     "name": "stdout",
     "output_type": "stream",
     "text": [
      "The length of cloth in meter: 7.86\n"
     ]
    }
   ],
   "source": [
    "l=float(input(\"Enter the length\"))\n",
    "m=l/100\n",
    "print(\"The length of cloth in meter:\",m)"
   ]
  },
  {
   "cell_type": "markdown",
   "id": "2136aeea-8394-4e55-a60f-c15a19f32b53",
   "metadata": {},
   "source": [
    "### Difference between shift and bitwise opereators"
   ]
  },
  {
   "cell_type": "code",
   "execution_count": 11,
   "id": "dd128bfb-d1e7-475d-b190-2eca02e7bd3b",
   "metadata": {},
   "outputs": [
    {
     "name": "stdout",
     "output_type": "stream",
     "text": [
      "1\n",
      "7\n",
      "6\n"
     ]
    }
   ],
   "source": [
    "a1=5\n",
    "a2=3\n",
    "print(a1&a2)\n",
    "print(a1|a2)\n",
    "print(a1^a2)"
   ]
  },
  {
   "cell_type": "markdown",
   "id": "028a088c-7513-4d46-b49c-3dbaf879ab26",
   "metadata": {},
   "source": [
    "### Currency"
   ]
  },
  {
   "cell_type": "code",
   "execution_count": 12,
   "id": "874ccbac-97ee-421f-b478-31de0567f078",
   "metadata": {},
   "outputs": [
    {
     "name": "stdin",
     "output_type": "stream",
     "text": [
      "Enter the rupees 300\n"
     ]
    },
    {
     "name": "stdout",
     "output_type": "stream",
     "text": [
      "value of rupees: 300.0\n",
      "value in nz dollar is: 14.0\n",
      "value in us dollar is: 3.0\n"
     ]
    }
   ],
   "source": [
    "r=float(input(\"Enter the rupees\"))\n",
    "nz=r//20.90\n",
    "us=r//90.34\n",
    "print(\"value of rupees:\",r)\n",
    "print(\"value in nz dollar is:\",nz)\n",
    "print(\"value in us dollar is:\",us)"
   ]
  },
  {
   "cell_type": "markdown",
   "id": "602b6172-f343-4c92-8498-062014fc6d49",
   "metadata": {},
   "source": [
    "### Fahrenheit"
   ]
  },
  {
   "cell_type": "code",
   "execution_count": 1,
   "id": "8b18e958-bbba-4a2a-b9cd-213bbb7709a5",
   "metadata": {},
   "outputs": [
    {
     "name": "stdin",
     "output_type": "stream",
     "text": [
      "Enter the temperature in celsius: 30\n"
     ]
    },
    {
     "name": "stdout",
     "output_type": "stream",
     "text": [
      "Temperature in fahrenheit: 86.0\n"
     ]
    }
   ],
   "source": [
    "c=float(input(\"Enter the temperature in celsius:\"))\n",
    "f=(c*9/5)+32\n",
    "print(\"Temperature in fahrenheit:\",f)"
   ]
  },
  {
   "cell_type": "code",
   "execution_count": null,
   "id": "98303341-f20c-4256-9fe9-055a84ff9431",
   "metadata": {},
   "outputs": [],
   "source": []
  }
 ],
 "metadata": {
  "kernelspec": {
   "display_name": "Python 3 (ipykernel)",
   "language": "python",
   "name": "python3"
  },
  "language_info": {
   "codemirror_mode": {
    "name": "ipython",
    "version": 3
   },
   "file_extension": ".py",
   "mimetype": "text/x-python",
   "name": "python",
   "nbconvert_exporter": "python",
   "pygments_lexer": "ipython3",
   "version": "3.12.3"
  }
 },
 "nbformat": 4,
 "nbformat_minor": 5
}
